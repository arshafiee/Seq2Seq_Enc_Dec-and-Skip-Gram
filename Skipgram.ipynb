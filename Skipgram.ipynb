{
 "cells": [
  {
   "cell_type": "code",
   "execution_count": null,
   "metadata": {
    "colab": {},
    "colab_type": "code",
    "id": "OWVzYAR7-cYB"
   },
   "outputs": [],
   "source": [
    "from keras.preprocessing import text\n",
    "from keras.preprocessing.text import text_to_word_sequence\n",
    "from keras.preprocessing.sequence import skipgrams\n",
    "from keras.layers import dot\n",
    "from keras.layers.core import Dense, Reshape\n",
    "from keras.layers.embeddings import Embedding\n",
    "from keras.models import Sequential, Model\n",
    "from IPython.display import SVG\n",
    "from keras.utils.vis_utils import model_to_dot\n",
    "from keras.layers import Input\n",
    "from keras.utils import plot_model\n",
    "import numpy as np\n",
    "import tensorflow as tf\n",
    "from keras.models import load_model\n",
    "import pandas as pd\n",
    "from sklearn.metrics.pairwise import cosine_distances\n",
    "from sklearn.manifold import TSNE\n",
    "import matplotlib.pyplot as plt\n",
    "\n",
    "# using gpu\n",
    "sess = tf.Session(config=tf.ConfigProto(log_device_placement=True))\n",
    "from keras import backend as K\n",
    "K.tensorflow_backend._get_available_gpus()"
   ]
  },
  {
   "cell_type": "markdown",
   "metadata": {
    "colab_type": "text",
    "id": "XWETigWOcHDg"
   },
   "source": [
    "#### Report:\n",
    "Packages are imported and GPU is enabled!"
   ]
  },
  {
   "cell_type": "markdown",
   "metadata": {
    "colab_type": "text",
    "id": "z8NTATKmGqC1"
   },
   "source": [
    "### Mounting Google Drive"
   ]
  },
  {
   "cell_type": "code",
   "execution_count": null,
   "metadata": {
    "colab": {
     "base_uri": "https://localhost:8080/",
     "height": 122
    },
    "colab_type": "code",
    "id": "fUwuljr9Gs3C",
    "outputId": "22526025-90c0-4ec1-c411-d030dd2d9457"
   },
   "outputs": [
    {
     "name": "stdout",
     "output_type": "stream",
     "text": [
      "Go to this URL in a browser: https://accounts.google.com/o/oauth2/auth?client_id=947318989803-6bn6qk8qdgf4n4g3pfee6491hc0brc4i.apps.googleusercontent.com&redirect_uri=urn%3aietf%3awg%3aoauth%3a2.0%3aoob&response_type=code&scope=email%20https%3a%2f%2fwww.googleapis.com%2fauth%2fdocs.test%20https%3a%2f%2fwww.googleapis.com%2fauth%2fdrive%20https%3a%2f%2fwww.googleapis.com%2fauth%2fdrive.photos.readonly%20https%3a%2f%2fwww.googleapis.com%2fauth%2fpeopleapi.readonly\n",
      "\n",
      "Enter your authorization code:\n",
      "··········\n",
      "Mounted at /content/drive\n"
     ]
    }
   ],
   "source": [
    "from google.colab import drive\n",
    "drive.mount('/content/drive', force_remount = True)"
   ]
  },
  {
   "cell_type": "markdown",
   "metadata": {
    "colab_type": "text",
    "id": "2jFBtXsXLR6v"
   },
   "source": [
    "### Text Preprocessing"
   ]
  },
  {
   "cell_type": "code",
   "execution_count": null,
   "metadata": {
    "colab": {},
    "colab_type": "code",
    "id": "V0zrUBwqLRKH"
   },
   "outputs": [],
   "source": [
    "with open('drive/My Drive/Colab Notebooks/Problem1_HW4/ferdosi.txt', 'r') as file:\n",
    "  whole_text = file.read()\n",
    "\n",
    "whole_text = whole_text.split('\\n')[:-1]\n",
    "sentences = []\n",
    "\n",
    "for line in whole_text:\n",
    "  parts = line.split(',')\n",
    "  first_part = parts[0].rstrip()\n",
    "  second_part = parts[1][1:]\n",
    "  sentences = sentences + [first_part + ' ' + second_part]"
   ]
  },
  {
   "cell_type": "markdown",
   "metadata": {
    "colab_type": "text",
    "id": "vQEsSG-Xcqjr"
   },
   "source": [
    "#### Report:\n",
    "The whole text of 'Shahname' is readed and splitted to lines. After that, first part and second part(by part I mean 'Mesra') are separated and extra space characters at the end of first part and at the begining of second part are removed. After that, these two parts are concatenated to form 'sentences' which contains our sentences for skip-gram model."
   ]
  },
  {
   "cell_type": "markdown",
   "metadata": {
    "colab_type": "text",
    "id": "x4lIj-_TGWR0"
   },
   "source": [
    "### Building Vocabulary"
   ]
  },
  {
   "cell_type": "code",
   "execution_count": null,
   "metadata": {
    "colab": {
     "base_uri": "https://localhost:8080/",
     "height": 51
    },
    "colab_type": "code",
    "id": "UcF_amBo-ZwS",
    "outputId": "d13877c4-66a1-4ebd-e326-fed09c0c934a"
   },
   "outputs": [
    {
     "name": "stdout",
     "output_type": "stream",
     "text": [
      "Vocabulary Size: 17659\n",
      "Vocabulary Sample: [('گفت', 11), ('شد', 12), ('شاه', 13), ('تو', 14), ('بود', 15), ('او', 16), ('یکی', 17), ('همه', 18), ('ان', 19), ('اندر', 20)]\n"
     ]
    }
   ],
   "source": [
    "tokenizer = text.Tokenizer()\n",
    "tokenizer.fit_on_texts(sentences)\n",
    "\n",
    "word2id = tokenizer.word_index\n",
    "id2word = {v:k for k, v in word2id.items()}\n",
    "\n",
    "vocab_size = len(word2id) + 1 \n",
    "embed_size = 25\n",
    "\n",
    "wids = [[word2id[w] for w in text.text_to_word_sequence(doc)] for doc in sentences]\n",
    "print('Vocabulary Size:', vocab_size)\n",
    "print('Vocabulary Sample:', list(word2id.items())[10:20])"
   ]
  },
  {
   "cell_type": "markdown",
   "metadata": {
    "colab_type": "text",
    "id": "kUSmb1OZd06h"
   },
   "source": [
    "#### Report:\n",
    "We generate our vocabulary in this part. As you can see, There are 17659 different words(17658 actually) and 10 samples of this dictionary are represented."
   ]
  },
  {
   "cell_type": "markdown",
   "metadata": {
    "colab_type": "text",
    "id": "C9On2D4Fg5Ct"
   },
   "source": [
    "### Skip-gram Generator"
   ]
  },
  {
   "cell_type": "code",
   "execution_count": null,
   "metadata": {
    "colab": {
     "base_uri": "https://localhost:8080/",
     "height": 187
    },
    "colab_type": "code",
    "id": "9b9bGIcxg_Kg",
    "outputId": "ff07f905-49b8-4c94-f5eb-96af42c652fc"
   },
   "outputs": [
    {
     "name": "stdout",
     "output_type": "stream",
     "text": [
      "(کزین (364), بدروزگار (7885)) -> 0\n",
      "(خرد (98), پیش (29)) -> 0\n",
      "(کزین (364), نیارمت (9475)) -> 0\n",
      "(نام (81), مکر (6467)) -> 0\n",
      "(برنگذرد (3535), دمد (11996)) -> 0\n",
      "(خرد (98), و (1)) -> 1\n",
      "(به (2), نام (81)) -> 1\n",
      "(خرد (98), برتر (698)) -> 1\n",
      "(برتر (698), بیسچ (13755)) -> 0\n",
      "(برتر (698), کیمال (8474)) -> 0\n"
     ]
    }
   ],
   "source": [
    "# generate skip-grams\n",
    "skip_grams = [skipgrams(wid, vocabulary_size=vocab_size, window_size=2) for wid in wids]\n",
    "\n",
    "# view sample skip-grams\n",
    "pairs, labels = skip_grams[0][0], skip_grams[0][1]\n",
    "for i in range(10):\n",
    "    print(\"({:s} ({:d}), {:s} ({:d})) -> {:d}\".format(\n",
    "          id2word[pairs[i][0]], pairs[i][0], \n",
    "          id2word[pairs[i][1]], pairs[i][1], \n",
    "          labels[i]))"
   ]
  },
  {
   "cell_type": "markdown",
   "metadata": {
    "colab_type": "text",
    "id": "lD5cyvhYeRsQ"
   },
   "source": [
    "#### Report:\n",
    "by using 'skipgrams' method with 'window_size' equal to 2(Capturing 5 consecutive words), we prepare our dataset. We have both negative and positive samples. Negative sample is non-contextual couple of words whose label is zero. And positive sample is contextual couple of words whose label is 1."
   ]
  },
  {
   "cell_type": "markdown",
   "metadata": {
    "colab_type": "text",
    "id": "F3-NZR_yoCH2"
   },
   "source": [
    "### Building The Model"
   ]
  },
  {
   "cell_type": "code",
   "execution_count": null,
   "metadata": {
    "colab": {
     "base_uri": "https://localhost:8080/",
     "height": 1000
    },
    "colab_type": "code",
    "id": "6XUoGdpuoaYP",
    "outputId": "723764e6-873d-4078-83f5-2d888f826d62"
   },
   "outputs": [
    {
     "name": "stdout",
     "output_type": "stream",
     "text": [
      "WARNING:tensorflow:From /usr/local/lib/python3.6/dist-packages/keras/backend/tensorflow_backend.py:66: The name tf.get_default_graph is deprecated. Please use tf.compat.v1.get_default_graph instead.\n",
      "\n",
      "WARNING:tensorflow:From /usr/local/lib/python3.6/dist-packages/keras/backend/tensorflow_backend.py:541: The name tf.placeholder is deprecated. Please use tf.compat.v1.placeholder instead.\n",
      "\n",
      "WARNING:tensorflow:From /usr/local/lib/python3.6/dist-packages/keras/backend/tensorflow_backend.py:4432: The name tf.random_uniform is deprecated. Please use tf.random.uniform instead.\n",
      "\n",
      "WARNING:tensorflow:From /usr/local/lib/python3.6/dist-packages/keras/optimizers.py:793: The name tf.train.Optimizer is deprecated. Please use tf.compat.v1.train.Optimizer instead.\n",
      "\n",
      "Model: \"model_3\"\n",
      "__________________________________________________________________________________________________\n",
      "Layer (type)                    Output Shape         Param #     Connected to                     \n",
      "==================================================================================================\n",
      "input_1 (InputLayer)            (None, 1)            0                                            \n",
      "__________________________________________________________________________________________________\n",
      "input_2 (InputLayer)            (None, 1)            0                                            \n",
      "__________________________________________________________________________________________________\n",
      "embedding_1 (Embedding)         (None, 1, 25)        441475      input_1[0][0]                    \n",
      "__________________________________________________________________________________________________\n",
      "embedding_2 (Embedding)         (None, 1, 25)        441475      input_2[0][0]                    \n",
      "__________________________________________________________________________________________________\n",
      "reshape_1 (Reshape)             (None, 25)           0           embedding_1[0][0]                \n",
      "__________________________________________________________________________________________________\n",
      "reshape_2 (Reshape)             (None, 25)           0           embedding_2[0][0]                \n",
      "__________________________________________________________________________________________________\n",
      "dot_1 (Dot)                     (None, 1)            0           reshape_1[0][0]                  \n",
      "                                                                 reshape_2[0][0]                  \n",
      "__________________________________________________________________________________________________\n",
      "dense_1 (Dense)                 (None, 1)            2           dot_1[0][0]                      \n",
      "==================================================================================================\n",
      "Total params: 882,952\n",
      "Trainable params: 882,952\n",
      "Non-trainable params: 0\n",
      "__________________________________________________________________________________________________\n",
      "None\n"
     ]
    },
    {
     "data": {
      "image/png": "[encoded data removed]",
      "text/plain": [
       "<IPython.core.display.Image object>"
      ]
     },
     "execution_count": 8,
     "metadata": {
      "tags": []
     },
     "output_type": "execute_result"
    }
   ],
   "source": [
    "# input layer\n",
    "word_input = Input(shape=(1,))\n",
    "\n",
    "# embedding layer\n",
    "embedding_layer = Embedding(vocab_size, embed_size,\n",
    "                         embeddings_initializer=\"glorot_uniform\",\n",
    "                         input_length=1)\n",
    "embedded_word = embedding_layer(word_input)\n",
    "\n",
    "# reshaping layer\n",
    "reshaping_layer = Reshape((embed_size, ))\n",
    "reshaped_word = reshaping_layer(embedded_word)\n",
    "\n",
    "word_model = Model(word_input, reshaped_word)\n",
    "\n",
    "# context input layer\n",
    "context_input = Input(shape=(1,))\n",
    "\n",
    "# embedding layer\n",
    "embedding_layer2 = Embedding(vocab_size, embed_size,\n",
    "                         embeddings_initializer=\"glorot_uniform\",\n",
    "                         input_length=1)\n",
    "embedded_context = embedding_layer2(context_input)\n",
    "\n",
    "# reshaping layer\n",
    "reshaping_layer2 = Reshape((embed_size, ))\n",
    "reshaped_context = reshaping_layer2(embedded_context)\n",
    "\n",
    "context_model = Model(context_input, reshaped_context)\n",
    "\n",
    "# Merge\n",
    "dot_output = dot([reshaped_word, reshaped_context], axes=1, normalize=False)\n",
    "\n",
    "# dense layer\n",
    "Dense_Layer = Dense(1, kernel_initializer='glorot_uniform',\n",
    "                            activation='sigmoid')\n",
    "model_output = Dense_Layer(dot_output)\n",
    "\n",
    "model = Model([word_input, context_input], model_output)\n",
    "\n",
    "model.compile(loss=\"mean_squared_error\", optimizer=\"rmsprop\")\n",
    "\n",
    "# view model summary\n",
    "print(model.summary())\n",
    "\n",
    "# visualize model structure\n",
    "plot_model(model, to_file='model_plot4a.png', show_shapes=True, show_layer_names=True)"
   ]
  },
  {
   "cell_type": "markdown",
   "metadata": {
    "colab_type": "text",
    "id": "oqrPrtG_fT6w"
   },
   "source": [
    "#### Report:\n",
    "We build our model whose structure is represented above. We use an embedding layer of size 25 for both 'word' and 'context' inputs. And after reshaping these embeddings, we merge them and pass them to Dense layer to decide about the label."
   ]
  },
  {
   "cell_type": "markdown",
   "metadata": {
    "colab_type": "text",
    "id": "MuFN-TqfYjYo"
   },
   "source": [
    "### Training The Model"
   ]
  },
  {
   "cell_type": "code",
   "execution_count": null,
   "metadata": {
    "colab": {
     "base_uri": "https://localhost:8080/",
     "height": 1000
    },
    "colab_type": "code",
    "id": "bftoZFXFWNFp",
    "outputId": "5313a56d-1327-44f4-e2ec-ba22dd4eec87"
   },
   "outputs": [
    {
     "name": "stdout",
     "output_type": "stream",
     "text": [
      "Processed 0 (skip_first, skip_second, relevance) pairs\n",
      "WARNING:tensorflow:From /usr/local/lib/python3.6/dist-packages/keras/backend/tensorflow_backend.py:1033: The name tf.assign_add is deprecated. Please use tf.compat.v1.assign_add instead.\n",
      "\n",
      "WARNING:tensorflow:From /usr/local/lib/python3.6/dist-packages/keras/backend/tensorflow_backend.py:1020: The name tf.assign is deprecated. Please use tf.compat.v1.assign instead.\n",
      "\n",
      "WARNING:tensorflow:From /usr/local/lib/python3.6/dist-packages/keras/backend/tensorflow_backend.py:216: The name tf.is_variable_initialized is deprecated. Please use tf.compat.v1.is_variable_initialized instead.\n",
      "\n",
      "WARNING:tensorflow:From /usr/local/lib/python3.6/dist-packages/keras/backend/tensorflow_backend.py:223: The name tf.variables_initializer is deprecated. Please use tf.compat.v1.variables_initializer instead.\n",
      "\n",
      "Processed 10000 (skip_first, skip_second, relevance) pairs\n",
      "Processed 20000 (skip_first, skip_second, relevance) pairs\n",
      "Processed 30000 (skip_first, skip_second, relevance) pairs\n",
      "Processed 40000 (skip_first, skip_second, relevance) pairs\n",
      "Epoch: 1 Loss: 0.12299625985206393\n",
      "Processed 0 (skip_first, skip_second, relevance) pairs\n",
      "Processed 10000 (skip_first, skip_second, relevance) pairs\n",
      "Processed 20000 (skip_first, skip_second, relevance) pairs\n",
      "Processed 30000 (skip_first, skip_second, relevance) pairs\n",
      "Processed 40000 (skip_first, skip_second, relevance) pairs\n",
      "Epoch: 2 Loss: 0.10332052196837116\n",
      "Processed 0 (skip_first, skip_second, relevance) pairs\n",
      "Processed 10000 (skip_first, skip_second, relevance) pairs\n",
      "Processed 20000 (skip_first, skip_second, relevance) pairs\n",
      "Processed 30000 (skip_first, skip_second, relevance) pairs\n",
      "Processed 40000 (skip_first, skip_second, relevance) pairs\n",
      "Epoch: 3 Loss: 0.10073575328036183\n",
      "Processed 0 (skip_first, skip_second, relevance) pairs\n",
      "Processed 10000 (skip_first, skip_second, relevance) pairs\n",
      "Processed 20000 (skip_first, skip_second, relevance) pairs\n",
      "Processed 30000 (skip_first, skip_second, relevance) pairs\n",
      "Processed 40000 (skip_first, skip_second, relevance) pairs\n",
      "Epoch: 4 Loss: 0.09936868056923613\n",
      "Processed 0 (skip_first, skip_second, relevance) pairs\n",
      "Processed 10000 (skip_first, skip_second, relevance) pairs\n",
      "Processed 20000 (skip_first, skip_second, relevance) pairs\n",
      "Processed 30000 (skip_first, skip_second, relevance) pairs\n",
      "Processed 40000 (skip_first, skip_second, relevance) pairs\n",
      "Epoch: 5 Loss: 0.09846337237325979\n",
      "Processed 0 (skip_first, skip_second, relevance) pairs\n",
      "Processed 10000 (skip_first, skip_second, relevance) pairs\n",
      "Processed 20000 (skip_first, skip_second, relevance) pairs\n",
      "Processed 30000 (skip_first, skip_second, relevance) pairs\n",
      "Processed 40000 (skip_first, skip_second, relevance) pairs\n",
      "Epoch: 6 Loss: 0.09781402171806622\n",
      "Processed 0 (skip_first, skip_second, relevance) pairs\n",
      "Processed 10000 (skip_first, skip_second, relevance) pairs\n",
      "Processed 20000 (skip_first, skip_second, relevance) pairs\n",
      "Processed 30000 (skip_first, skip_second, relevance) pairs\n",
      "Processed 40000 (skip_first, skip_second, relevance) pairs\n",
      "Epoch: 7 Loss: 0.09732765957577998\n",
      "Processed 0 (skip_first, skip_second, relevance) pairs\n",
      "Processed 10000 (skip_first, skip_second, relevance) pairs\n",
      "Processed 20000 (skip_first, skip_second, relevance) pairs\n",
      "Processed 30000 (skip_first, skip_second, relevance) pairs\n",
      "Processed 40000 (skip_first, skip_second, relevance) pairs\n",
      "Epoch: 8 Loss: 0.09695487559234273\n",
      "Processed 0 (skip_first, skip_second, relevance) pairs\n",
      "Processed 10000 (skip_first, skip_second, relevance) pairs\n",
      "Processed 20000 (skip_first, skip_second, relevance) pairs\n",
      "Processed 30000 (skip_first, skip_second, relevance) pairs\n",
      "Processed 40000 (skip_first, skip_second, relevance) pairs\n",
      "Epoch: 9 Loss: 0.09666040606664428\n",
      "Processed 0 (skip_first, skip_second, relevance) pairs\n",
      "Processed 10000 (skip_first, skip_second, relevance) pairs\n",
      "Processed 20000 (skip_first, skip_second, relevance) pairs\n",
      "Processed 30000 (skip_first, skip_second, relevance) pairs\n",
      "Processed 40000 (skip_first, skip_second, relevance) pairs\n",
      "Epoch: 10 Loss: 0.09642136829678374\n",
      "Processed 0 (skip_first, skip_second, relevance) pairs\n",
      "Processed 10000 (skip_first, skip_second, relevance) pairs\n",
      "Processed 20000 (skip_first, skip_second, relevance) pairs\n",
      "Processed 30000 (skip_first, skip_second, relevance) pairs\n",
      "Processed 40000 (skip_first, skip_second, relevance) pairs\n",
      "Epoch: 11 Loss: 0.09621352012717298\n",
      "Processed 0 (skip_first, skip_second, relevance) pairs\n",
      "Processed 10000 (skip_first, skip_second, relevance) pairs\n",
      "Processed 20000 (skip_first, skip_second, relevance) pairs\n",
      "Processed 30000 (skip_first, skip_second, relevance) pairs\n",
      "Processed 40000 (skip_first, skip_second, relevance) pairs\n",
      "Epoch: 12 Loss: 0.09601539426157724\n",
      "Processed 0 (skip_first, skip_second, relevance) pairs\n",
      "Processed 10000 (skip_first, skip_second, relevance) pairs\n",
      "Processed 20000 (skip_first, skip_second, relevance) pairs\n",
      "Processed 30000 (skip_first, skip_second, relevance) pairs\n",
      "Processed 40000 (skip_first, skip_second, relevance) pairs\n",
      "Epoch: 13 Loss: 0.09582874224250115\n",
      "Processed 0 (skip_first, skip_second, relevance) pairs\n",
      "Processed 10000 (skip_first, skip_second, relevance) pairs\n",
      "Processed 20000 (skip_first, skip_second, relevance) pairs\n",
      "Processed 30000 (skip_first, skip_second, relevance) pairs\n",
      "Processed 40000 (skip_first, skip_second, relevance) pairs\n",
      "Epoch: 14 Loss: 0.09567265036929391\n",
      "Processed 0 (skip_first, skip_second, relevance) pairs\n",
      "Processed 10000 (skip_first, skip_second, relevance) pairs\n",
      "Processed 20000 (skip_first, skip_second, relevance) pairs\n",
      "Processed 30000 (skip_first, skip_second, relevance) pairs\n",
      "Processed 40000 (skip_first, skip_second, relevance) pairs\n",
      "Epoch: 15 Loss: 0.0955449584642356\n",
      "Processed 0 (skip_first, skip_second, relevance) pairs\n",
      "Processed 10000 (skip_first, skip_second, relevance) pairs\n",
      "Processed 20000 (skip_first, skip_second, relevance) pairs\n",
      "Processed 30000 (skip_first, skip_second, relevance) pairs\n",
      "Processed 40000 (skip_first, skip_second, relevance) pairs\n",
      "Epoch: 16 Loss: 0.09544056508414696\n",
      "Processed 0 (skip_first, skip_second, relevance) pairs\n",
      "Processed 10000 (skip_first, skip_second, relevance) pairs\n",
      "Processed 20000 (skip_first, skip_second, relevance) pairs\n",
      "Processed 30000 (skip_first, skip_second, relevance) pairs\n",
      "Processed 40000 (skip_first, skip_second, relevance) pairs\n",
      "Epoch: 17 Loss: 0.09535645017151338\n",
      "Processed 0 (skip_first, skip_second, relevance) pairs\n",
      "Processed 10000 (skip_first, skip_second, relevance) pairs\n",
      "Processed 20000 (skip_first, skip_second, relevance) pairs\n",
      "Processed 30000 (skip_first, skip_second, relevance) pairs\n",
      "Processed 40000 (skip_first, skip_second, relevance) pairs\n",
      "Epoch: 18 Loss: 0.09528983141258986\n",
      "Processed 0 (skip_first, skip_second, relevance) pairs\n",
      "Processed 10000 (skip_first, skip_second, relevance) pairs\n",
      "Processed 20000 (skip_first, skip_second, relevance) pairs\n",
      "Processed 30000 (skip_first, skip_second, relevance) pairs\n",
      "Processed 40000 (skip_first, skip_second, relevance) pairs\n",
      "Epoch: 19 Loss: 0.09523741302165627\n",
      "Processed 0 (skip_first, skip_second, relevance) pairs\n",
      "Processed 10000 (skip_first, skip_second, relevance) pairs\n",
      "Processed 20000 (skip_first, skip_second, relevance) pairs\n",
      "Processed 30000 (skip_first, skip_second, relevance) pairs\n",
      "Processed 40000 (skip_first, skip_second, relevance) pairs\n",
      "Epoch: 20 Loss: 0.09519434782649121\n"
     ]
    }
   ],
   "source": [
    "for epoch in range(1, 21):\n",
    "    loss = 0\n",
    "    for i, elem in enumerate(skip_grams):\n",
    "        pair_first_elem = np.array(list(zip(*elem[0]))[0], dtype='int32')\n",
    "        pair_second_elem = np.array(list(zip(*elem[0]))[1], dtype='int32')\n",
    "        labels = np.array(elem[1], dtype='int32')\n",
    "        X = [pair_first_elem, pair_second_elem]\n",
    "        Y = labels\n",
    "        if i % 10000 == 0:\n",
    "            print('Processed {} (skip_first, skip_second, relevance) pairs'.format(i))\n",
    "        loss += model.train_on_batch(X,Y)  \n",
    "\n",
    "    loss = loss / len(sentences)\n",
    "    print('Epoch:', epoch, 'Loss:', loss)"
   ]
  },
  {
   "cell_type": "markdown",
   "metadata": {
    "colab_type": "text",
    "id": "LHCfxjsZf-cc"
   },
   "source": [
    "#### Report:\n",
    "We train our model for 20 epochs. As you can see above, our 'Loss' is decreasing gradually."
   ]
  },
  {
   "cell_type": "markdown",
   "metadata": {
    "colab_type": "text",
    "id": "MAuhHgKoOx-j"
   },
   "source": [
    "### Saving The Model"
   ]
  },
  {
   "cell_type": "code",
   "execution_count": null,
   "metadata": {
    "colab": {},
    "colab_type": "code",
    "id": "drwchAfxa-DY"
   },
   "outputs": [],
   "source": [
    "model.save('drive/My Drive/Colab Notebooks/Problem1_HW4/20epoch-mesra') "
   ]
  },
  {
   "cell_type": "markdown",
   "metadata": {
    "colab_type": "text",
    "id": "FhYArzoJP2fb"
   },
   "source": [
    "### Get Word Embeddings"
   ]
  },
  {
   "cell_type": "code",
   "execution_count": null,
   "metadata": {
    "colab": {
     "base_uri": "https://localhost:8080/",
     "height": 241
    },
    "colab_type": "code",
    "id": "vQGbt5zbPOUb",
    "outputId": "31bcf613-1797-4d53-93ab-fb2c0823e796"
   },
   "outputs": [
    {
     "name": "stdout",
     "output_type": "stream",
     "text": [
      "Shape of Embeddings : (17658, 25)\n"
     ]
    },
    {
     "data": {
      "text/html": [
       "<div>\n",
       "<style scoped>\n",
       "    .dataframe tbody tr th:only-of-type {\n",
       "        vertical-align: middle;\n",
       "    }\n",
       "\n",
       "    .dataframe tbody tr th {\n",
       "        vertical-align: top;\n",
       "    }\n",
       "\n",
       "    .dataframe thead th {\n",
       "        text-align: right;\n",
       "    }\n",
       "</style>\n",
       "<table border=\"1\" class=\"dataframe\">\n",
       "  <thead>\n",
       "    <tr style=\"text-align: right;\">\n",
       "      <th></th>\n",
       "      <th>0</th>\n",
       "      <th>1</th>\n",
       "      <th>2</th>\n",
       "      <th>3</th>\n",
       "      <th>4</th>\n",
       "      <th>5</th>\n",
       "      <th>6</th>\n",
       "      <th>7</th>\n",
       "      <th>8</th>\n",
       "      <th>9</th>\n",
       "      <th>10</th>\n",
       "      <th>11</th>\n",
       "      <th>12</th>\n",
       "      <th>13</th>\n",
       "      <th>14</th>\n",
       "      <th>15</th>\n",
       "      <th>16</th>\n",
       "      <th>17</th>\n",
       "      <th>18</th>\n",
       "      <th>19</th>\n",
       "      <th>20</th>\n",
       "      <th>21</th>\n",
       "      <th>22</th>\n",
       "      <th>23</th>\n",
       "      <th>24</th>\n",
       "    </tr>\n",
       "  </thead>\n",
       "  <tbody>\n",
       "    <tr>\n",
       "      <th>غلتم</th>\n",
       "      <td>-0.079591</td>\n",
       "      <td>0.060408</td>\n",
       "      <td>-0.067204</td>\n",
       "      <td>0.063123</td>\n",
       "      <td>0.077072</td>\n",
       "      <td>0.067599</td>\n",
       "      <td>-0.061138</td>\n",
       "      <td>-0.075074</td>\n",
       "      <td>0.078392</td>\n",
       "      <td>0.050426</td>\n",
       "      <td>-0.062588</td>\n",
       "      <td>-0.045208</td>\n",
       "      <td>-0.067905</td>\n",
       "      <td>-0.076474</td>\n",
       "      <td>-0.046463</td>\n",
       "      <td>0.050402</td>\n",
       "      <td>-0.053169</td>\n",
       "      <td>-0.048135</td>\n",
       "      <td>-0.058063</td>\n",
       "      <td>0.061504</td>\n",
       "      <td>-0.077022</td>\n",
       "      <td>0.049418</td>\n",
       "      <td>-0.049528</td>\n",
       "      <td>0.075640</td>\n",
       "      <td>-0.031109</td>\n",
       "    </tr>\n",
       "    <tr>\n",
       "      <th>دواج</th>\n",
       "      <td>-0.069180</td>\n",
       "      <td>0.057472</td>\n",
       "      <td>-0.048451</td>\n",
       "      <td>0.054710</td>\n",
       "      <td>0.055712</td>\n",
       "      <td>0.070238</td>\n",
       "      <td>-0.049617</td>\n",
       "      <td>-0.061012</td>\n",
       "      <td>0.065862</td>\n",
       "      <td>0.071719</td>\n",
       "      <td>-0.058046</td>\n",
       "      <td>-0.062878</td>\n",
       "      <td>-0.038578</td>\n",
       "      <td>-0.051319</td>\n",
       "      <td>-0.046067</td>\n",
       "      <td>0.054538</td>\n",
       "      <td>-0.072713</td>\n",
       "      <td>-0.057695</td>\n",
       "      <td>-0.048381</td>\n",
       "      <td>0.048395</td>\n",
       "      <td>-0.063696</td>\n",
       "      <td>0.075999</td>\n",
       "      <td>-0.062962</td>\n",
       "      <td>0.059856</td>\n",
       "      <td>0.000327</td>\n",
       "    </tr>\n",
       "    <tr>\n",
       "      <th>مد</th>\n",
       "      <td>-0.071234</td>\n",
       "      <td>0.061227</td>\n",
       "      <td>-0.055785</td>\n",
       "      <td>0.052150</td>\n",
       "      <td>0.048438</td>\n",
       "      <td>0.071731</td>\n",
       "      <td>-0.058044</td>\n",
       "      <td>-0.079435</td>\n",
       "      <td>0.066363</td>\n",
       "      <td>0.056829</td>\n",
       "      <td>-0.059933</td>\n",
       "      <td>-0.058365</td>\n",
       "      <td>-0.013307</td>\n",
       "      <td>-0.074602</td>\n",
       "      <td>-0.065012</td>\n",
       "      <td>0.080534</td>\n",
       "      <td>-0.053668</td>\n",
       "      <td>-0.080220</td>\n",
       "      <td>-0.058463</td>\n",
       "      <td>0.080773</td>\n",
       "      <td>-0.063695</td>\n",
       "      <td>0.072135</td>\n",
       "      <td>-0.044955</td>\n",
       "      <td>0.059612</td>\n",
       "      <td>0.013952</td>\n",
       "    </tr>\n",
       "    <tr>\n",
       "      <th>هجرت</th>\n",
       "      <td>-0.069686</td>\n",
       "      <td>0.064801</td>\n",
       "      <td>-0.064760</td>\n",
       "      <td>0.068143</td>\n",
       "      <td>0.046239</td>\n",
       "      <td>0.071709</td>\n",
       "      <td>-0.046485</td>\n",
       "      <td>-0.061133</td>\n",
       "      <td>0.080864</td>\n",
       "      <td>0.073293</td>\n",
       "      <td>-0.064171</td>\n",
       "      <td>-0.066757</td>\n",
       "      <td>-0.066963</td>\n",
       "      <td>-0.067793</td>\n",
       "      <td>-0.067945</td>\n",
       "      <td>0.054885</td>\n",
       "      <td>-0.055116</td>\n",
       "      <td>-0.058360</td>\n",
       "      <td>-0.073965</td>\n",
       "      <td>0.053642</td>\n",
       "      <td>-0.078416</td>\n",
       "      <td>0.067594</td>\n",
       "      <td>-0.067117</td>\n",
       "      <td>0.058377</td>\n",
       "      <td>-0.018517</td>\n",
       "    </tr>\n",
       "    <tr>\n",
       "      <th>هشتادبار</th>\n",
       "      <td>-0.070505</td>\n",
       "      <td>0.056941</td>\n",
       "      <td>-0.050438</td>\n",
       "      <td>0.066794</td>\n",
       "      <td>0.076631</td>\n",
       "      <td>0.055110</td>\n",
       "      <td>-0.049555</td>\n",
       "      <td>-0.071408</td>\n",
       "      <td>0.070895</td>\n",
       "      <td>0.072426</td>\n",
       "      <td>-0.051773</td>\n",
       "      <td>-0.067329</td>\n",
       "      <td>-0.039484</td>\n",
       "      <td>-0.049612</td>\n",
       "      <td>-0.079965</td>\n",
       "      <td>0.064358</td>\n",
       "      <td>-0.059716</td>\n",
       "      <td>-0.068590</td>\n",
       "      <td>-0.051019</td>\n",
       "      <td>0.048865</td>\n",
       "      <td>-0.057733</td>\n",
       "      <td>0.057010</td>\n",
       "      <td>-0.069018</td>\n",
       "      <td>0.055936</td>\n",
       "      <td>0.015630</td>\n",
       "    </tr>\n",
       "  </tbody>\n",
       "</table>\n",
       "</div>"
      ],
      "text/plain": [
       "                0         1         2   ...        22        23        24\n",
       "غلتم     -0.079591  0.060408 -0.067204  ... -0.049528  0.075640 -0.031109\n",
       "دواج     -0.069180  0.057472 -0.048451  ... -0.062962  0.059856  0.000327\n",
       "مد       -0.071234  0.061227 -0.055785  ... -0.044955  0.059612  0.013952\n",
       "هجرت     -0.069686  0.064801 -0.064760  ... -0.067117  0.058377 -0.018517\n",
       "هشتادبار -0.070505  0.056941 -0.050438  ... -0.069018  0.055936  0.015630\n",
       "\n",
       "[5 rows x 25 columns]"
      ]
     },
     "execution_count": 11,
     "metadata": {
      "tags": []
     },
     "output_type": "execute_result"
    }
   ],
   "source": [
    "word_embed_layer = model.layers[2]\n",
    "weights = word_embed_layer.get_weights()[0][1:]\n",
    "\n",
    "print('Shape of Embeddings : {0}'.format(weights.shape))\n",
    "pd.DataFrame(weights, index=id2word.values()).tail()"
   ]
  },
  {
   "cell_type": "markdown",
   "metadata": {
    "colab_type": "text",
    "id": "yNSYwyO7gb1s"
   },
   "source": [
    "#### Report:\n",
    "We extract our embedding weights for our target words. The shape of embeddings and 5 last embedding weights are represented."
   ]
  },
  {
   "cell_type": "markdown",
   "metadata": {
    "colab_type": "text",
    "id": "b8OIL5hoTuCx"
   },
   "source": [
    "### Cosine Distance"
   ]
  },
  {
   "cell_type": "code",
   "execution_count": null,
   "metadata": {
    "colab": {
     "base_uri": "https://localhost:8080/",
     "height": 221
    },
    "colab_type": "code",
    "id": "zn8goeaIRufc",
    "outputId": "4ad70861-2b4e-4fe2-cef8-ae2c054d9d4a"
   },
   "outputs": [
    {
     "name": "stdout",
     "output_type": "stream",
     "text": [
      "Shape of Cosine Distances: (17658, 17658)\n"
     ]
    },
    {
     "data": {
      "text/html": [
       "<div>\n",
       "<style scoped>\n",
       "    .dataframe tbody tr th:only-of-type {\n",
       "        vertical-align: middle;\n",
       "    }\n",
       "\n",
       "    .dataframe tbody tr th {\n",
       "        vertical-align: top;\n",
       "    }\n",
       "\n",
       "    .dataframe thead th {\n",
       "        text-align: right;\n",
       "    }\n",
       "</style>\n",
       "<table border=\"1\" class=\"dataframe\">\n",
       "  <thead>\n",
       "    <tr style=\"text-align: right;\">\n",
       "      <th></th>\n",
       "      <th>گلاب</th>\n",
       "      <th>سیستان</th>\n",
       "      <th>ایران</th>\n",
       "      <th>رستم</th>\n",
       "      <th>خردمند</th>\n",
       "    </tr>\n",
       "  </thead>\n",
       "  <tbody>\n",
       "    <tr>\n",
       "      <th>0</th>\n",
       "      <td>چمان</td>\n",
       "      <td>دارا</td>\n",
       "      <td>کین</td>\n",
       "      <td>بماند</td>\n",
       "      <td>باید</td>\n",
       "    </tr>\n",
       "    <tr>\n",
       "      <th>1</th>\n",
       "      <td>ومهان</td>\n",
       "      <td>شدشان</td>\n",
       "      <td>نزد</td>\n",
       "      <td>بخت</td>\n",
       "      <td>گوی</td>\n",
       "    </tr>\n",
       "    <tr>\n",
       "      <th>2</th>\n",
       "      <td>کلک</td>\n",
       "      <td>رنجتان</td>\n",
       "      <td>پدر</td>\n",
       "      <td>برد</td>\n",
       "      <td>بپرسید</td>\n",
       "    </tr>\n",
       "    <tr>\n",
       "      <th>3</th>\n",
       "      <td>ندانیم</td>\n",
       "      <td>تندباد</td>\n",
       "      <td>برین</td>\n",
       "      <td>دارد</td>\n",
       "      <td>گو</td>\n",
       "    </tr>\n",
       "    <tr>\n",
       "      <th>4</th>\n",
       "      <td>فرب</td>\n",
       "      <td>هماون</td>\n",
       "      <td>خرد</td>\n",
       "      <td>بار</td>\n",
       "      <td>اختر</td>\n",
       "    </tr>\n",
       "  </tbody>\n",
       "</table>\n",
       "</div>"
      ],
      "text/plain": [
       "     گلاب  سیستان ایران   رستم  خردمند\n",
       "0    چمان    دارا   کین  بماند    باید\n",
       "1   ومهان   شدشان   نزد    بخت     گوی\n",
       "2     کلک  رنجتان   پدر    برد  بپرسید\n",
       "3  ندانیم  تندباد  برین   دارد      گو\n",
       "4     فرب   هماون   خرد    بار    اختر"
      ]
     },
     "execution_count": 12,
     "metadata": {
      "tags": []
     },
     "output_type": "execute_result"
    }
   ],
   "source": [
    "distance_matrix = cosine_distances(weights)\n",
    "print('Shape of Cosine Distances: {0}'.format(distance_matrix.shape))\n",
    "\n",
    "similar_words = {search_term: [id2word[idx] for idx in distance_matrix[word2id[search_term]-1].argsort()[1:6]+1] \n",
    "                   for search_term in ['گلاب', 'سیستان', 'ایران', 'رستم', 'خردمند']}\n",
    "\n",
    "pd.DataFrame(similar_words)"
   ]
  },
  {
   "cell_type": "markdown",
   "metadata": {
    "colab_type": "text",
    "id": "KSqKtVDvgzu6"
   },
   "source": [
    "#### Report:\n",
    "We compute cosine distance between the embeddings and find the 5 most similar words to the words that were asked. You can see these words in a table above. As we can see, the results are satisfactory and their are some meaningful relations between the words."
   ]
  },
  {
   "cell_type": "markdown",
   "metadata": {
    "colab_type": "text",
    "id": "MXgbuDoTYPcW"
   },
   "source": [
    "### T-SNE Visualization"
   ]
  },
  {
   "cell_type": "code",
   "execution_count": null,
   "metadata": {
    "colab": {
     "base_uri": "https://localhost:8080/",
     "height": 500
    },
    "colab_type": "code",
    "id": "MTELR0OIUmZm",
    "outputId": "04aceb93-830d-4189-e564-241897b1ee49"
   },
   "outputs": [
    {
     "name": "stdout",
     "output_type": "stream",
     "text": [
      "Total words: 30 \tWord Embedding shapes: (30, 25)\n"
     ]
    },
    {
     "data": {
      "image/png": "[encoded data removed]",
      "text/plain": [
       "<Figure size 1008x576 with 1 Axes>"
      ]
     },
     "metadata": {
      "tags": []
     },
     "output_type": "display_data"
    }
   ],
   "source": [
    "words = sum([[k] + v for k, v in similar_words.items()], [])\n",
    "words_ids = [word2id[w] for w in words]\n",
    "word_vectors = np.array([weights[idx] for idx in words_ids])\n",
    "print('Total words:', len(words), '\\tWord Embedding shapes:', word_vectors.shape)\n",
    "\n",
    "tsne = TSNE(n_components=2, random_state=0, n_iter=10000, perplexity=3)\n",
    "np.set_printoptions(suppress=True)\n",
    "T = tsne.fit_transform(word_vectors)\n",
    "labels = words\n",
    "\n",
    "plt.figure(figsize=(14, 8))\n",
    "plt.scatter(T[:, 0], T[:, 1], c='steelblue', edgecolors='k')\n",
    "for label, x, y in zip(labels, T[:, 0], T[:, 1]):\n",
    "    plt.annotate(label, xy=(x+1, y+1), xytext=(0, 0), textcoords='offset points')"
   ]
  },
  {
   "cell_type": "markdown",
   "metadata": {
    "colab_type": "text",
    "id": "CExxjVkQhk7P"
   },
   "source": [
    "#### Report:\n",
    "At last, we use T-SNE visualization to show the small distance between the asked words and their 5 most contextual-coupled words."
   ]
  }
 ],
 "metadata": {
  "accelerator": "GPU",
  "colab": {
   "collapsed_sections": [],
   "name": "Skipgram.ipynb",
   "provenance": []
  },
  "kernelspec": {
   "display_name": "Python 3",
   "language": "python",
   "name": "python3"
  },
  "language_info": {
   "codemirror_mode": {
    "name": "ipython",
    "version": 3
   },
   "file_extension": ".py",
   "mimetype": "text/x-python",
   "name": "python",
   "nbconvert_exporter": "python",
   "pygments_lexer": "ipython3",
   "version": "3.7.3"
  }
 },
 "nbformat": 4,
 "nbformat_minor": 1
}
